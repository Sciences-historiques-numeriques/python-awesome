{
 "cells": [
  {
   "cell_type": "code",
   "execution_count": 1,
   "metadata": {},
   "outputs": [
    {
     "name": "stdout",
     "output_type": "stream",
     "text": [
      "S\n",
      "c\n",
      "h\n",
      "i\n",
      "n\n",
      "d\n",
      "l\n",
      "e\n",
      "r\n",
      " \n",
      "L\n",
      "i\n",
      "s\n",
      "t\n"
     ]
    }
   ],
   "source": [
    "# For loop\n",
    "\n",
    "for i in \"Schindler List\":\n",
    "    print(i)"
   ]
  },
  {
   "cell_type": "code",
   "execution_count": 2,
   "metadata": {},
   "outputs": [
    {
     "data": {
      "text/plain": [
       "['S', 'c', 'h']"
      ]
     },
     "execution_count": 2,
     "metadata": {},
     "output_type": "execute_result"
    }
   ],
   "source": [
    "### Comprehensions\n",
    "# https://docs.python.org/3/tutorial/datastructures.html#list-comprehensions\n",
    "\n",
    "l = \"Schindler List\"\n",
    "\n",
    "ll = []\n",
    "ll = [i for i in l]    \n",
    "ll[:3]\n"
   ]
  },
  {
   "cell_type": "code",
   "execution_count": 3,
   "metadata": {},
   "outputs": [
    {
     "data": {
      "text/plain": [
       "['Schindler', 'List']"
      ]
     },
     "execution_count": 3,
     "metadata": {},
     "output_type": "execute_result"
    }
   ],
   "source": [
    "### Split string\n",
    "ss = l.split(); ss"
   ]
  },
  {
   "cell_type": "code",
   "execution_count": 5,
   "metadata": {},
   "outputs": [
    {
     "data": {
      "text/plain": [
       "'Schindler List'"
      ]
     },
     "execution_count": 5,
     "metadata": {},
     "output_type": "execute_result"
    }
   ],
   "source": [
    "### Join list to string\n",
    "' '.join(ss)"
   ]
  },
  {
   "cell_type": "code",
   "execution_count": null,
   "metadata": {},
   "outputs": [],
   "source": []
  },
  {
   "cell_type": "code",
   "execution_count": 9,
   "metadata": {},
   "outputs": [
    {
     "name": "stdout",
     "output_type": "stream",
     "text": [
      "Tom Cruise\n",
      "Leonardo Di Caprio\n",
      "Jennifer Lawrence\n",
      "Natalie Portman\n"
     ]
    }
   ],
   "source": [
    "celebrity = [\"Tom Cruise\",\"Leonardo Di Caprio\",\"Jennifer Lawrence\",\"Natalie Portman\"]\n",
    "\n",
    "for actors in celebrity:\n",
    "    print(actors)"
   ]
  },
  {
   "cell_type": "code",
   "execution_count": 11,
   "metadata": {},
   "outputs": [
    {
     "data": {
      "text/plain": [
       "['TOM CRUISE', 'LEONARDO DI CAPRIO', 'JENNIFER LAWRENCE', 'NATALIE PORTMAN']"
      ]
     },
     "execution_count": 11,
     "metadata": {},
     "output_type": "execute_result"
    }
   ],
   "source": [
    "### Action on list elements\n",
    "# https://www.w3schools.com/python/ref_string_upper.asp\n",
    "l = [a.upper() for a in celebrity]; l"
   ]
  },
  {
   "cell_type": "code",
   "execution_count": null,
   "metadata": {},
   "outputs": [],
   "source": []
  },
  {
   "cell_type": "code",
   "execution_count": 12,
   "metadata": {},
   "outputs": [
    {
     "name": "stdout",
     "output_type": "stream",
     "text": [
      "[6, 15, 3, 9]\n"
     ]
    }
   ],
   "source": [
    "### Conditions in loops / comprehensions \n",
    "# https://pythonexamples.org/python-list-comprehension-multiple-if-conditions/\n",
    "\n",
    "list_1 = [7, 2, -8, 6, 2, 15, 4, -2, 3, 9]\n",
    "list_2 = [ x for x in list_1 if x > 0 if x % 3 == 0 ]\n",
    "print(list_2)"
   ]
  },
  {
   "cell_type": "code",
   "execution_count": 18,
   "metadata": {},
   "outputs": [
    {
     "data": {
      "text/plain": [
       "[6, 15, 3, 9]"
      ]
     },
     "execution_count": 18,
     "metadata": {},
     "output_type": "execute_result"
    }
   ],
   "source": [
    "### Same loop, without comprehension\n",
    "list_2 = []\n",
    "    \n",
    "for x in list_1:\n",
    "    if x > 0 and x % 3 == 0:\n",
    "        list_2.append(x)\n",
    "list_2"
   ]
  },
  {
   "cell_type": "code",
   "execution_count": null,
   "metadata": {},
   "outputs": [],
   "source": []
  },
  {
   "cell_type": "code",
   "execution_count": null,
   "metadata": {},
   "outputs": [],
   "source": [
    "### astuce qui permet de parcourir un objet lorsque le slicing,\n",
    "# i.e. la sélection dans la liste, e.g. [:1] n'est pas possible\n",
    "# car ce type/classe d'objets n'est pas itérable\n",
    "\n",
    "i = 1\n",
    "for file in glob_list_in:\n",
    "    if i < 2:\n",
    "        a = file\n",
    "        print(file)\n",
    "    else:\n",
    "        pass\n",
    "    i += 1"
   ]
  },
  {
   "cell_type": "code",
   "execution_count": null,
   "metadata": {},
   "outputs": [],
   "source": []
  },
  {
   "cell_type": "markdown",
   "metadata": {},
   "source": [
    "## Find value in list of lists\n",
    "\n",
    "Suggestion de cette [page de forum](https://stackoverflow.com/questions/1156087/python-search-in-lists-of-lists). Il y a d'autres méthodes sur la même page !"
   ]
  },
  {
   "cell_type": "code",
   "execution_count": null,
   "metadata": {},
   "outputs": [],
   "source": [
    "search = 'abc'\n",
    "result = [element for element in l_bhp_persons if element[1] == search]"
   ]
  },
  {
   "cell_type": "code",
   "execution_count": null,
   "metadata": {},
   "outputs": [],
   "source": [
    "## pour les valeurs None\n",
    "result = [element for element in l_bhp_persons if element[1] is None]"
   ]
  },
  {
   "cell_type": "markdown",
   "metadata": {},
   "source": [
    "## Sort / group by"
   ]
  },
  {
   "cell_type": "code",
   "execution_count": null,
   "metadata": {},
   "outputs": [],
   "source": [
    "# https://www.geeksforgeeks.org/python-sort-list-according-second-element-sublist/\n",
    "# adapted to take an index\n",
    "def sort(sub_li, index): \n",
    "  \n",
    "    # reverse = None (Sorts in Ascending order) \n",
    "    # key is set to sort using second element of  \n",
    "    # sublist lambda has been used \n",
    "    return(sorted(sub_li, key = lambda x: x[ index ])) "
   ]
  },
  {
   "cell_type": "code",
   "execution_count": 1,
   "metadata": {},
   "outputs": [],
   "source": [
    "# https://www.programiz.com/python-programming/methods/built-in/sorted\n",
    "# https://www.geeksforgeeks.org/python-sort-list-according-second-element-sublist/\n",
    "# adapted to take an index – \n",
    "def custom_sort(sub_li, index, *reverse): \n",
    "    \n",
    "    if reverse:\n",
    "        sort_order = True\n",
    "    else :\n",
    "        sort_order = False\n",
    "  \n",
    "    # reverse = None (Sorts in Ascending order) \n",
    "    # key is set to sort using second element of  \n",
    "    # sublist lambda has been used \n",
    "    return(sorted(sub_li, key = lambda x: x[ index ], reverse=sort_order)) "
   ]
  },
  {
   "cell_type": "markdown",
   "metadata": {},
   "source": [
    "### Sort according to value type"
   ]
  },
  {
   "cell_type": "code",
   "execution_count": 12,
   "metadata": {},
   "outputs": [],
   "source": [
    "### https://thispointer.com/python-how-to-sort-a-list-of-strings-list-sort-tutorial-examples/\n",
    "l = ['0001', '-0002', '-0013', '0012']"
   ]
  },
  {
   "cell_type": "code",
   "execution_count": 15,
   "metadata": {},
   "outputs": [
    {
     "data": {
      "text/plain": [
       "['-0002', '-0013', '0001', '0012']"
      ]
     },
     "execution_count": 15,
     "metadata": {},
     "output_type": "execute_result"
    }
   ],
   "source": [
    "l.sort()\n",
    "l"
   ]
  },
  {
   "cell_type": "code",
   "execution_count": 17,
   "metadata": {},
   "outputs": [
    {
     "data": {
      "text/plain": [
       "['-0013', '-0002', '0001', '0012']"
      ]
     },
     "execution_count": 17,
     "metadata": {},
     "output_type": "execute_result"
    }
   ],
   "source": [
    "# CAST à la volée sans transformer les valeurs\n",
    "l.sort(key=int)\n",
    "l"
   ]
  },
  {
   "cell_type": "code",
   "execution_count": null,
   "metadata": {},
   "outputs": [],
   "source": [
    "# CAST qui transforme les valeurs\n",
    "l_int = [int(i) for i in l]"
   ]
  },
  {
   "cell_type": "code",
   "execution_count": 9,
   "metadata": {},
   "outputs": [
    {
     "data": {
      "text/plain": [
       "-2"
      ]
     },
     "execution_count": 9,
     "metadata": {},
     "output_type": "execute_result"
    }
   ],
   "source": [
    "int('-0002')"
   ]
  },
  {
   "cell_type": "code",
   "execution_count": 11,
   "metadata": {},
   "outputs": [
    {
     "data": {
      "text/plain": [
       "[-13, -2, 1, 12]"
      ]
     },
     "execution_count": 11,
     "metadata": {},
     "output_type": "execute_result"
    }
   ],
   "source": [
    "l_int.sort()\n",
    "l_int"
   ]
  },
  {
   "cell_type": "markdown",
   "metadata": {},
   "source": [
    "### Count the occurrences of a list item"
   ]
  },
  {
   "cell_type": "code",
   "execution_count": null,
   "metadata": {},
   "outputs": [],
   "source": [
    "## Doc. counter : https://pythonguides.com/python-counter/\n",
    "\n",
    ">>> from collections import Counter\n",
    ">>> z = ['blue', 'red', 'blue', 'yellow', 'blue', 'red']\n",
    ">>> Counter(z)\n",
    "Counter({'blue': 3, 'red': 2, 'yellow': 1})"
   ]
  },
  {
   "cell_type": "code",
   "execution_count": null,
   "metadata": {},
   "outputs": [],
   "source": []
  },
  {
   "cell_type": "code",
   "execution_count": 5,
   "metadata": {},
   "outputs": [
    {
     "name": "stdout",
     "output_type": "stream",
     "text": [
      "Counter({1: 4, 2: 4, 3: 2, 5: 2, 4: 1})\n",
      "dict_values([4, 4, 2, 1, 2])\n",
      "dict_keys([1, 2, 3, 4, 5])\n",
      "[(1, 4), (2, 4), (3, 2)]\n"
     ]
    }
   ],
   "source": [
    "import collections\n",
    "a = [1,1,1,1,2,2,2,2,3,3,4,5,5]\n",
    "### ATTENTION : l'agrégation fonctionnne seulement suite à un tri préalable\n",
    "counter=collections.Counter(a)\n",
    "print(counter)\n",
    "# Counter({1: 4, 2: 4, 3: 2, 5: 2, 4: 1})\n",
    "print(counter.values())\n",
    "# [4, 4, 2, 1, 2]\n",
    "print(counter.keys())\n",
    "# [1, 2, 3, 4, 5]\n",
    "print(counter.most_common(3))\n",
    "# [(1, 4), (2, 4), (3, 2)]"
   ]
  },
  {
   "cell_type": "code",
   "execution_count": null,
   "metadata": {},
   "outputs": [],
   "source": []
  },
  {
   "cell_type": "raw",
   "metadata": {},
   "source": [
    "counter = Counter(appellations_types)\n",
    "result = []\n",
    "result = list(zip(counter.keys(), counter.values()))\n",
    "appellations_types_grouped = [list(r) for r in result]\n",
    "print(len(appellations_types_grouped))\n",
    "appellations_types_grouped[:5]"
   ]
  },
  {
   "cell_type": "code",
   "execution_count": 138,
   "metadata": {},
   "outputs": [],
   "source": [
    "properties = []\n",
    "errors = []\n",
    "errors_field = []\n",
    "for l in result_l:\n",
    "    try:\n",
    "        k = ast.literal_eval(l[2])\n",
    "        kpid_list = []\n",
    "\n",
    "        try:\n",
    "            for kpid in k['data']['previousId']:                \n",
    "                kpid_list.append([l[0], 'cerl_id', l[1], 'previous_cerl_id', kpid])\n",
    "        except Exception as e:\n",
    "            errors.append([l[0],e])\n",
    "\n",
    "        properties += kpid_list\n",
    "        # properties.append([l[0], 'place_st_name', place_st_name, 'cerl_id', id, 'long', long, 'lat', lat])\n",
    "            \n",
    "    except Exception as e:\n",
    "         errors_field.append([l[1],e])"
   ]
  },
  {
   "cell_type": "code",
   "execution_count": 139,
   "metadata": {},
   "outputs": [
    {
     "data": {
      "text/plain": [
       "(3568, 420, 2)"
      ]
     },
     "execution_count": 139,
     "metadata": {},
     "output_type": "execute_result"
    }
   ],
   "source": [
    "len(properties), len(errors), len(errors_field)"
   ]
  },
  {
   "cell_type": "raw",
   "metadata": {
    "tags": []
   },
   "source": [
    "print(errors_field[:3])\n",
    "errors_id = [i[0] for i in errors_field]\n",
    "\n",
    "### BEWARE : in not empty reload JSON with query\n",
    "errors_id"
   ]
  },
  {
   "cell_type": "code",
   "execution_count": null,
   "metadata": {},
   "outputs": [],
   "source": []
  },
  {
   "cell_type": "code",
   "execution_count": null,
   "metadata": {},
   "outputs": [],
   "source": [
    "### Group list of lists by elements and count\n",
    "\n",
    "c_list = Counter()\n",
    "for l in keys_list:\n",
    "    c_list += Counter(l)\n",
    "dict(c_list) "
   ]
  },
  {
   "cell_type": "code",
   "execution_count": null,
   "metadata": {},
   "outputs": [],
   "source": []
  },
  {
   "cell_type": "code",
   "execution_count": null,
   "metadata": {},
   "outputs": [],
   "source": []
  },
  {
   "cell_type": "code",
   "execution_count": null,
   "metadata": {},
   "outputs": [],
   "source": []
  },
  {
   "cell_type": "code",
   "execution_count": null,
   "metadata": {},
   "outputs": [],
   "source": [
    ">>> k = [[1, 2], [4], [5, 6, 2], [1, 2], [3], [4]]\n",
    ">>> import itertools\n",
    ">>> k.sort()\n",
    ">>> list(k for k,_ in itertools.groupby(k))\n",
    "[[1, 2], [3], [4], [5, 6, 2]]"
   ]
  },
  {
   "cell_type": "markdown",
   "metadata": {},
   "source": [
    "### How to sort a list of lists by a specific index of the inner list"
   ]
  },
  {
   "cell_type": "code",
   "execution_count": null,
   "metadata": {},
   "outputs": [],
   "source": [
    ">>> from operator import itemgetter\n",
    ">>> L=[[0, 1, 'f'], [4, 2, 't'], [9, 4, 'afsd']]\n",
    ">>> sorted(L, key=itemgetter(2))\n",
    "[[9, 4, 'afsd'], [0, 1, 'f'], [4, 2, 't']]"
   ]
  },
  {
   "cell_type": "code",
   "execution_count": null,
   "metadata": {},
   "outputs": [],
   "source": []
  },
  {
   "cell_type": "code",
   "execution_count": null,
   "metadata": {},
   "outputs": [],
   "source": []
  },
  {
   "cell_type": "code",
   "execution_count": null,
   "metadata": {},
   "outputs": [],
   "source": []
  },
  {
   "cell_type": "code",
   "execution_count": 1,
   "metadata": {},
   "outputs": [],
   "source": [
    "def merge(lst1, lst2): \n",
    "    return [a + [b[1]] for (a, b) in zip(lst1, lst2)] "
   ]
  },
  {
   "cell_type": "code",
   "execution_count": null,
   "metadata": {},
   "outputs": [],
   "source": []
  },
  {
   "cell_type": "markdown",
   "metadata": {},
   "source": [
    "# Write list to file"
   ]
  },
  {
   "cell_type": "code",
   "execution_count": null,
   "metadata": {},
   "outputs": [],
   "source": [
    "l = myList \n",
    "file_path='file.csv'\n",
    "with open(file_path, \"w\", newline=\"\") as f:\n",
    "    writer = csv.writer(f)\n",
    "    writer.writerows(myList)"
   ]
  },
  {
   "cell_type": "markdown",
   "metadata": {},
   "source": [
    "### read"
   ]
  },
  {
   "cell_type": "code",
   "execution_count": null,
   "metadata": {},
   "outputs": [],
   "source": [
    "with open('file.csv', newline='') as f:\n",
    "    reader = csv.reader(f)\n",
    "    data = list(reader)\n",
    "\n",
    "print(data)"
   ]
  },
  {
   "cell_type": "code",
   "execution_count": null,
   "metadata": {},
   "outputs": [],
   "source": []
  },
  {
   "cell_type": "code",
   "execution_count": null,
   "metadata": {},
   "outputs": [],
   "source": []
  },
  {
   "cell_type": "code",
   "execution_count": null,
   "metadata": {},
   "outputs": [],
   "source": []
  },
  {
   "cell_type": "code",
   "execution_count": null,
   "metadata": {},
   "outputs": [],
   "source": []
  },
  {
   "cell_type": "code",
   "execution_count": null,
   "metadata": {},
   "outputs": [],
   "source": []
  },
  {
   "cell_type": "code",
   "execution_count": null,
   "metadata": {},
   "outputs": [],
   "source": []
  },
  {
   "cell_type": "code",
   "execution_count": null,
   "metadata": {},
   "outputs": [],
   "source": []
  },
  {
   "cell_type": "code",
   "execution_count": 6,
   "metadata": {
    "tags": []
   },
   "outputs": [],
   "source": [
    "# Writing a exponent function using for loop\n",
    "\n",
    "def exponent(int_num,power):\n",
    "    result = 1\n",
    "    for i in range(power):\n",
    "        result = result * int_num\n",
    "    return result"
   ]
  },
  {
   "cell_type": "code",
   "execution_count": 7,
   "metadata": {},
   "outputs": [
    {
     "data": {
      "text/plain": [
       "15625"
      ]
     },
     "execution_count": 7,
     "metadata": {},
     "output_type": "execute_result"
    }
   ],
   "source": [
    "exponent(5,6)"
   ]
  },
  {
   "cell_type": "code",
   "execution_count": 8,
   "metadata": {},
   "outputs": [
    {
     "data": {
      "text/plain": [
       "range(0, 6)"
      ]
     },
     "execution_count": 8,
     "metadata": {},
     "output_type": "execute_result"
    }
   ],
   "source": [
    "range(6)"
   ]
  },
  {
   "cell_type": "code",
   "execution_count": null,
   "metadata": {},
   "outputs": [],
   "source": []
  }
 ],
 "metadata": {
  "kernelspec": {
   "display_name": "Python 3 (ipykernel)",
   "language": "python",
   "name": "python3"
  },
  "language_info": {
   "codemirror_mode": {
    "name": "ipython",
    "version": 3
   },
   "file_extension": ".py",
   "mimetype": "text/x-python",
   "name": "python",
   "nbconvert_exporter": "python",
   "pygments_lexer": "ipython3",
   "version": "3.10.8"
  }
 },
 "nbformat": 4,
 "nbformat_minor": 4
}
