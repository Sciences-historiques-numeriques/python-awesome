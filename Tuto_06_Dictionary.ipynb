{
 "cells": [
  {
   "cell_type": "code",
   "execution_count": 1,
   "metadata": {
    "tags": []
   },
   "outputs": [],
   "source": [
    "# Dictionary\n",
    "# Here we have key-value pairs\n",
    "\n",
    "month_numerics = {\n",
    "    \"January\":\"01\",\n",
    "    \"Februray\":\"02\",\n",
    "    \"March\":\"03\",\n",
    "    \"April\":\"04\",\n",
    "    \"May\":\"05\",\n",
    "    \"June\":\"06\",\n",
    "    \"July\":\"07\",\n",
    "    \"August\":\"08\",\n",
    "    \"September\":\"09\",\n",
    "    \"October\":\"10\",\n",
    "    \"November\":\"11\",\n",
    "    \"December\":\"12\"\n",
    "                 }"
   ]
  },
  {
   "cell_type": "code",
   "execution_count": 3,
   "metadata": {},
   "outputs": [
    {
     "name": "stdout",
     "output_type": "stream",
     "text": [
      "{'January': '01', 'Februray': '02', 'March': '03', 'April': '04', 'May': '05', 'June': '06', 'July': '07', 'August': '08', 'September': '09', 'October': '10', 'November': '11', 'December': '12'}\n"
     ]
    }
   ],
   "source": [
    "# Printing dicitonary key-value pairs\n",
    "\n",
    "print(month_numerics)"
   ]
  },
  {
   "cell_type": "code",
   "execution_count": 5,
   "metadata": {},
   "outputs": [
    {
     "name": "stdout",
     "output_type": "stream",
     "text": [
      "03\n",
      "09\n"
     ]
    }
   ],
   "source": [
    "# Printing specifc value \n",
    "# Using get keyword will help you know whether its avai\n",
    "print(month_numerics[\"March\"])\n",
    "print(month_numerics.get(\"September\"))"
   ]
  },
  {
   "cell_type": "code",
   "execution_count": 7,
   "metadata": {},
   "outputs": [
    {
     "data": {
      "text/plain": [
       "4098"
      ]
     },
     "execution_count": 7,
     "metadata": {},
     "output_type": "execute_result"
    }
   ],
   "source": [
    "tel = {'jack': 4098, 'sape': 4139}\n",
    "tel['jack']"
   ]
  },
  {
   "cell_type": "code",
   "execution_count": 12,
   "metadata": {},
   "outputs": [
    {
     "data": {
      "text/plain": [
       "[['jack', 4098], ['sape', 4139]]"
      ]
     },
     "execution_count": 12,
     "metadata": {},
     "output_type": "execute_result"
    }
   ],
   "source": [
    "[[k,v] for k,v in tel.items()]"
   ]
  },
  {
   "cell_type": "code",
   "execution_count": 13,
   "metadata": {},
   "outputs": [
    {
     "data": {
      "text/plain": [
       "(dict_keys(['jack', 'sape']), dict_values([4098, 4139]))"
      ]
     },
     "execution_count": 13,
     "metadata": {},
     "output_type": "execute_result"
    }
   ],
   "source": [
    "tel.keys(), tel.values()"
   ]
  },
  {
   "cell_type": "code",
   "execution_count": null,
   "metadata": {
    "tags": []
   },
   "outputs": [],
   "source": []
  }
 ],
 "metadata": {
  "kernelspec": {
   "display_name": "Python 3 (ipykernel)",
   "language": "python",
   "name": "python3"
  },
  "language_info": {
   "codemirror_mode": {
    "name": "ipython",
    "version": 3
   },
   "file_extension": ".py",
   "mimetype": "text/x-python",
   "name": "python",
   "nbconvert_exporter": "python",
   "pygments_lexer": "ipython3",
   "version": "3.10.8"
  }
 },
 "nbformat": 4,
 "nbformat_minor": 4
}
