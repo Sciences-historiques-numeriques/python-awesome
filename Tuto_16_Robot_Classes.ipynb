{
 "cells": [
  {
   "cell_type": "code",
   "execution_count": 4,
   "metadata": {},
   "outputs": [
    {
     "name": "stdout",
     "output_type": "stream",
     "text": [
      "True\n"
     ]
    }
   ],
   "source": [
    "# Create a function inside a class i.e we create a function named \"awesome\" inside Robot.py file\n",
    "\n",
    "from Robot import Robot\n",
    "\n",
    "robot1 = Robot(\"Wall-E\",\"Acting\",\"Pixar\", True, 8)\n",
    "robot2 = Robot(\"BB-8\",\"Acting\",\"Star Wars\", True, 9)\n",
    "\n",
    "print(robot2.awesome())"
   ]
  },
  {
   "cell_type": "code",
   "execution_count": 3,
   "metadata": {},
   "outputs": [
    {
     "name": "stdout",
     "output_type": "stream",
     "text": [
      "He can fight\n",
      "He can romance\n"
     ]
    }
   ],
   "source": [
    "# Inheritance is basically inheriting all the funcitonality from one class to another class\n",
    "# We create a class named Actor and then inherit all the funtions of Actor class to myActor class\n",
    "# We are also inheriting functions from Actor to new class myHollywood\n",
    "\n",
    "from Actor import Actor\n",
    "from Hollywood import Hollywood\n",
    "\n",
    "myActor = Actor()\n",
    "myActor.fight()\n",
    "\n",
    "myHollywood = Hollywood()\n",
    "myHollywood.romance()"
   ]
  }
 ],
 "metadata": {
  "kernelspec": {
   "display_name": "Python 3 (ipykernel)",
   "language": "python",
   "name": "python3"
  },
  "language_info": {
   "codemirror_mode": {
    "name": "ipython",
    "version": 3
   },
   "file_extension": ".py",
   "mimetype": "text/x-python",
   "name": "python",
   "nbconvert_exporter": "python",
   "pygments_lexer": "ipython3",
   "version": "3.10.8"
  }
 },
 "nbformat": 4,
 "nbformat_minor": 4
}
