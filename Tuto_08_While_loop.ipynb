{
 "cells": [
  {
   "cell_type": "code",
   "execution_count": 3,
   "metadata": {},
   "outputs": [
    {
     "name": "stdout",
     "output_type": "stream",
     "text": [
      "0\n",
      "10\n",
      "20\n",
      "30\n",
      "40\n",
      "50\n",
      "Program completed\n"
     ]
    }
   ],
   "source": [
    "# While loop \n",
    "\n",
    "i = 0\n",
    "while i <= 50:\n",
    "    print(i)\n",
    "    i += 10\n",
    "    \n",
    "print(\"Program completed\")"
   ]
  },
  {
   "cell_type": "code",
   "execution_count": 13,
   "metadata": {},
   "outputs": [
    {
     "name": "stdout",
     "output_type": "stream",
     "text": [
      "Enter answer: C++\n",
      "Enter answer: Javascript\n",
      "Enter answer: Go\n",
      "You have run out of chances\n"
     ]
    }
   ],
   "source": [
    "# Find the secret word, interact with the program until you find the secret word\n",
    "\n",
    "answer = \"Python\"\n",
    "meta = \"\"\n",
    "chance = 0\n",
    "chance_limit = 3\n",
    "guess = False\n",
    "                    \n",
    "while meta != answer and not(guess):\n",
    "    if chance < chance_limit:\n",
    "        meta = input(\"Enter answer: \")\n",
    "        chance += 1\n",
    "    else:\n",
    "         guess = True\n",
    "\n",
    "if guess:\n",
    "    print(\"You have run out of chances\")\n",
    "else:\n",
    "     print(\"You won!\")"
   ]
  }
 ],
 "metadata": {
  "kernelspec": {
   "display_name": "Python 3 (ipykernel)",
   "language": "python",
   "name": "python3"
  },
  "language_info": {
   "codemirror_mode": {
    "name": "ipython",
    "version": 3
   },
   "file_extension": ".py",
   "mimetype": "text/x-python",
   "name": "python",
   "nbconvert_exporter": "python",
   "pygments_lexer": "ipython3",
   "version": "3.10.8"
  }
 },
 "nbformat": 4,
 "nbformat_minor": 4
}
